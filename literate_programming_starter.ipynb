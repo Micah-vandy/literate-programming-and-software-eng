{
 "cells": [
  {
   "cell_type": "code",
   "execution_count": null,
   "id": "05022528",
   "metadata": {},
   "outputs": [],
   "source": [
    "import pandas as pd\n",
    "import matplotlib.pyplot as plt\n",
    "import seaborn as sns"
   ]
  },
  {
   "cell_type": "code",
   "execution_count": null,
   "id": "f866c8d2",
   "metadata": {},
   "outputs": [],
   "source": [
    "# Get dataset\n",
    "dataset_url = \"https://raw.githubusercontent.com/allisonhorst/palmerpenguins/master/inst/extdata/penguins.csv\"\n",
    "df = pd.read_csv(dataset_url)\n",
    "df.head()"
   ]
  },
  {
   "cell_type": "code",
   "execution_count": null,
   "id": "11e1d235",
   "metadata": {},
   "outputs": [],
   "source": [
    "# Get dataset info\n",
    "df_shape = print(f\"Number of rows: {df.shape[0]}, Number of columns: {df.shape[1]}\\n\")\n",
    "df_columns = print(f\"columns in datset: {df.columns.tolist()}\\n\")\n",
    "df_info = print(df.info())"
   ]
  },
  {
   "cell_type": "code",
   "execution_count": null,
   "id": "66556876",
   "metadata": {},
   "outputs": [],
   "source": [
    "df.isna().sum().to_frame(name='missing').assign(percent=lambda x: 100 * x['missing'] / len(df))"
   ]
  },
  {
   "cell_type": "markdown",
   "id": "76d0ae26",
   "metadata": {},
   "source": [
    "## Drop Missing Values\n",
    "For simplicity in this demo, we’ll drop rows with missing values."
   ]
  },
  {
   "cell_type": "code",
   "execution_count": null,
   "id": "3d8a265e",
   "metadata": {},
   "outputs": [],
   "source": [
    "# Drop rows with missing values\n",
    "df = df.dropna()\n",
    "df.shape"
   ]
  },
  {
   "cell_type": "markdown",
   "id": "d43cc6fd",
   "metadata": {},
   "source": [
    "## Class Distribution\n",
    "We'll predict whether a penguin is an **Adelie** or not. Let's check class balance."
   ]
  },
  {
   "cell_type": "code",
   "execution_count": null,
   "id": "e993841c",
   "metadata": {},
   "outputs": [],
   "source": [
    "# get value counts for the species and plot a bar chart\n",
    "df['species'].value_counts().plot(kind='bar')"
   ]
  },
  {
   "cell_type": "code",
   "execution_count": null,
   "id": "f51289f6",
   "metadata": {},
   "outputs": [],
   "source": [
    "# make adelie the target variable\n",
    "df['is_adelie'] = (df['species'] == 'Adelie').astype(int)\n",
    "\n",
    "# make plot to show the distribution of the target variable\n",
    "df['is_adelie'].value_counts().plot(kind='bar', xlabel='Adelie', ylabel='Count', title='Distribution of Adelie')"
   ]
  },
  {
   "cell_type": "markdown",
   "id": "1d321f5a",
   "metadata": {},
   "source": [
    "## Exploratory Data Analysis\n",
    "We examine how the features vary by class using scatterplots."
   ]
  },
  {
   "cell_type": "code",
   "execution_count": null,
   "id": "b1eee97c",
   "metadata": {},
   "outputs": [],
   "source": [
    "#\n",
    "sns.pairplot(df, vars=['bill_length_mm', 'bill_depth_mm', 'flipper_length_mm', 'body_mass_g'], hue='species')\n",
    "plt.show()"
   ]
  },
  {
   "cell_type": "code",
   "execution_count": null,
   "id": "057a9232",
   "metadata": {},
   "outputs": [],
   "source": [
    "#\n",
    "numeric_columns = df.select_dtypes(include=['number']).columns\n",
    "df[numeric_columns].plot(subplots=True, figsize=(10, 10), layout=(3, 2));"
   ]
  },
  {
   "cell_type": "code",
   "execution_count": null,
   "id": "303449e3",
   "metadata": {},
   "outputs": [],
   "source": [
    "#\n",
    "categorical_columns = df.select_dtypes(include=[\"object\"]).columns\n",
    "\n",
    "# plot categorical columns individually\n",
    "for column in categorical_columns:\n",
    "    df[column].value_counts().plot(kind='bar', figsize=(3, 3))\n",
    "    plt.show()"
   ]
  },
  {
   "cell_type": "markdown",
   "id": "d75bbc5d",
   "metadata": {},
   "source": [
    "## Modeling"
   ]
  },
  {
   "cell_type": "code",
   "execution_count": null,
   "id": "70e89b21",
   "metadata": {},
   "outputs": [],
   "source": [
    "from sklearn.model_selection import StratifiedKFold, cross_validate\n",
    "from sklearn.pipeline import Pipeline\n",
    "from sklearn.preprocessing import StandardScaler\n",
    "from sklearn.neural_network import MLPClassifier\n",
    "from sklearn.metrics import classification_report\n",
    "from sklearn.model_selection import train_test_split\n",
    "import numpy as np"
   ]
  },
  {
   "cell_type": "code",
   "execution_count": null,
   "id": "d91f92d1",
   "metadata": {},
   "outputs": [],
   "source": [
    "# \n",
    "test_size = 0.2\n",
    "random_state = 42\n",
    "train_df, test_df = train_test_split(df, test_size=test_size, random_state=random_state)"
   ]
  },
  {
   "cell_type": "code",
   "execution_count": null,
   "id": "f110908f",
   "metadata": {},
   "outputs": [],
   "source": [
    "# \n",
    "predictors = ['bill_length_mm', 'bill_depth_mm', 'flipper_length_mm', 'body_mass_g']\n",
    "X = train_df[predictors]\n",
    "y = train_df['is_adelie']"
   ]
  },
  {
   "cell_type": "code",
   "execution_count": null,
   "id": "b1183046",
   "metadata": {},
   "outputs": [],
   "source": [
    "# \n",
    "pipe = Pipeline([\n",
    "    #('scaler', StandardScaler()),\n",
    "    ('nn', MLPClassifier(\n",
    "        hidden_layer_sizes=(4,), \n",
    "        activation='relu', \n",
    "        solver='adam', \n",
    "        max_iter=500, \n",
    "        random_state=42))\n",
    "])\n",
    "\n",
    "# Setup stratified k-fold cross-validation\n",
    "cv = StratifiedKFold(n_splits=5, shuffle=True, random_state=42)\n",
    "scoring = ['accuracy', 'precision', 'recall', 'f1']\n",
    "\n",
    "# Actually do the cross-validation\n",
    "results = cross_validate(pipe, X, y, cv=cv, scoring=scoring, return_estimator=True)"
   ]
  },
  {
   "cell_type": "markdown",
   "id": "01c309ed",
   "metadata": {},
   "source": [
    "## Evaluation Metrics"
   ]
  },
  {
   "cell_type": "code",
   "execution_count": null,
   "id": "c48ea1af",
   "metadata": {},
   "outputs": [],
   "source": [
    "for metric in scoring:\n",
    "    print(f\"{metric.capitalize()}: {np.mean(results[f'test_{metric}']):.3f} ± {np.std(results[f'test_{metric}']):.3f}\")"
   ]
  },
  {
   "cell_type": "markdown",
   "id": "7df060ac",
   "metadata": {},
   "source": [
    "## Classification Report"
   ]
  },
  {
   "cell_type": "code",
   "execution_count": null,
   "id": "63455ef7",
   "metadata": {},
   "outputs": [],
   "source": [
    "X_test = test_df[predictors]\n",
    "y_test = test_df['is_adelie']\n",
    "\n",
    "# Choose a model (not that you should do it this way)\n",
    "last_model = results['estimator'][-1]\n",
    "\n",
    "# Get predictions\n",
    "y_pred = last_model.predict(X_test)\n",
    "print(classification_report(y_test, y_pred))"
   ]
  }
 ],
 "metadata": {
  "kernelspec": {
   "display_name": "venv",
   "language": "python",
   "name": "python3"
  },
  "language_info": {
   "codemirror_mode": {
    "name": "ipython",
    "version": 3
   },
   "file_extension": ".py",
   "mimetype": "text/x-python",
   "name": "python",
   "nbconvert_exporter": "python",
   "pygments_lexer": "ipython3",
   "version": "3.11.8"
  }
 },
 "nbformat": 4,
 "nbformat_minor": 5
}
